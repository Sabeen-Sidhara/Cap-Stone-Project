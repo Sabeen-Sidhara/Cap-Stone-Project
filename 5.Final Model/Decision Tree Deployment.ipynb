{
 "cells": [
  {
   "cell_type": "code",
   "execution_count": 1,
   "id": "3b4137f6",
   "metadata": {},
   "outputs": [],
   "source": [
    "import pickle"
   ]
  },
  {
   "cell_type": "code",
   "execution_count": 2,
   "id": "c5719e1d",
   "metadata": {},
   "outputs": [],
   "source": [
    "sc=pickle.load(open(\"sc.pkl\",'rb'))"
   ]
  },
  {
   "cell_type": "code",
   "execution_count": 3,
   "id": "69dd859d",
   "metadata": {},
   "outputs": [
    {
     "data": {
      "text/plain": [
       "array([[-0.00249481, -0.05488798, -0.02438061, -0.00680432,  0.06186409]])"
      ]
     },
     "execution_count": 3,
     "metadata": {},
     "output_type": "execute_result"
    }
   ],
   "source": [
    "preinput = sc.transform([[148.112676, 57.482105, 3.077356, 38.868902, 8408.191126]])\n",
    "preinput"
   ]
  },
  {
   "cell_type": "code",
   "execution_count": 4,
   "id": "4d998f6f",
   "metadata": {},
   "outputs": [],
   "source": [
    "loaded_model=pickle.load(open(\"finalized_model_Decision.sav\",'rb')) \n",
    "result = loaded_model.predict(preinput)"
   ]
  },
  {
   "cell_type": "code",
   "execution_count": 5,
   "id": "a039657d",
   "metadata": {},
   "outputs": [
    {
     "data": {
      "text/plain": [
       "array([1], dtype=uint8)"
      ]
     },
     "execution_count": 5,
     "metadata": {},
     "output_type": "execute_result"
    }
   ],
   "source": [
    "result"
   ]
  }
 ],
 "metadata": {
  "kernelspec": {
   "display_name": "Python 3 (ipykernel)",
   "language": "python",
   "name": "python3"
  },
  "language_info": {
   "codemirror_mode": {
    "name": "ipython",
    "version": 3
   },
   "file_extension": ".py",
   "mimetype": "text/x-python",
   "name": "python",
   "nbconvert_exporter": "python",
   "pygments_lexer": "ipython3",
   "version": "3.7.1"
  }
 },
 "nbformat": 4,
 "nbformat_minor": 5
}
