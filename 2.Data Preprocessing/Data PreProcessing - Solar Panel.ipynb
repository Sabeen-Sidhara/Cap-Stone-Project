{
 "cells": [
  {
   "cell_type": "code",
   "execution_count": 1,
   "id": "5a610b72",
   "metadata": {},
   "outputs": [],
   "source": [
    "import pandas as pd\n",
    "import numpy as np"
   ]
  },
  {
   "cell_type": "code",
   "execution_count": 2,
   "id": "435b42da",
   "metadata": {},
   "outputs": [
    {
     "data": {
      "text/html": [
       "<div>\n",
       "<style scoped>\n",
       "    .dataframe tbody tr th:only-of-type {\n",
       "        vertical-align: middle;\n",
       "    }\n",
       "\n",
       "    .dataframe tbody tr th {\n",
       "        vertical-align: top;\n",
       "    }\n",
       "\n",
       "    .dataframe thead th {\n",
       "        text-align: right;\n",
       "    }\n",
       "</style>\n",
       "<table border=\"1\" class=\"dataframe\">\n",
       "  <thead>\n",
       "    <tr style=\"text-align: right;\">\n",
       "      <th></th>\n",
       "      <th>Panel</th>\n",
       "      <th>Efficiency</th>\n",
       "      <th>Degradation</th>\n",
       "      <th>Power(W)</th>\n",
       "      <th>solar_irradiance</th>\n",
       "      <th>temperature</th>\n",
       "      <th>humidity</th>\n",
       "      <th>wind_speed</th>\n",
       "      <th>cloud_cover</th>\n",
       "      <th>panel_age</th>\n",
       "      <th>panel_tilt_angle</th>\n",
       "      <th>latitude</th>\n",
       "      <th>longitude</th>\n",
       "      <th>output_category</th>\n",
       "    </tr>\n",
       "  </thead>\n",
       "  <tbody>\n",
       "    <tr>\n",
       "      <th>0</th>\n",
       "      <td>Panel_C</td>\n",
       "      <td>10.50</td>\n",
       "      <td>0.26</td>\n",
       "      <td>276</td>\n",
       "      <td>234.582148</td>\n",
       "      <td>27.409992</td>\n",
       "      <td>34.203594</td>\n",
       "      <td>12.909419</td>\n",
       "      <td>47.135301</td>\n",
       "      <td>8</td>\n",
       "      <td>40</td>\n",
       "      <td>43.162039</td>\n",
       "      <td>-80.402974</td>\n",
       "      <td>low</td>\n",
       "    </tr>\n",
       "    <tr>\n",
       "      <th>1</th>\n",
       "      <td>Panel_C</td>\n",
       "      <td>13.35</td>\n",
       "      <td>0.95</td>\n",
       "      <td>248</td>\n",
       "      <td>701.541503</td>\n",
       "      <td>20.095389</td>\n",
       "      <td>71.946512</td>\n",
       "      <td>2.424767</td>\n",
       "      <td>98.612964</td>\n",
       "      <td>4</td>\n",
       "      <td>20</td>\n",
       "      <td>33.483335</td>\n",
       "      <td>-97.290986</td>\n",
       "      <td>medium</td>\n",
       "    </tr>\n",
       "    <tr>\n",
       "      <th>2</th>\n",
       "      <td>Panel_A</td>\n",
       "      <td>11.59</td>\n",
       "      <td>0.67</td>\n",
       "      <td>248</td>\n",
       "      <td>800.323062</td>\n",
       "      <td>31.027154</td>\n",
       "      <td>60.910303</td>\n",
       "      <td>12.327964</td>\n",
       "      <td>70.145991</td>\n",
       "      <td>3</td>\n",
       "      <td>10</td>\n",
       "      <td>49.220731</td>\n",
       "      <td>-93.750434</td>\n",
       "      <td>low</td>\n",
       "    </tr>\n",
       "    <tr>\n",
       "      <th>3</th>\n",
       "      <td>Panel_B</td>\n",
       "      <td>14.53</td>\n",
       "      <td>0.48</td>\n",
       "      <td>384</td>\n",
       "      <td>264.976616</td>\n",
       "      <td>32.347156</td>\n",
       "      <td>60.115497</td>\n",
       "      <td>14.559179</td>\n",
       "      <td>66.752851</td>\n",
       "      <td>1</td>\n",
       "      <td>30</td>\n",
       "      <td>39.840162</td>\n",
       "      <td>-87.148791</td>\n",
       "      <td>low</td>\n",
       "    </tr>\n",
       "    <tr>\n",
       "      <th>4</th>\n",
       "      <td>Panel_C</td>\n",
       "      <td>12.29</td>\n",
       "      <td>0.22</td>\n",
       "      <td>299</td>\n",
       "      <td>314.577546</td>\n",
       "      <td>15.657046</td>\n",
       "      <td>81.578566</td>\n",
       "      <td>6.378646</td>\n",
       "      <td>39.263899</td>\n",
       "      <td>12</td>\n",
       "      <td>50</td>\n",
       "      <td>33.434963</td>\n",
       "      <td>-123.012506</td>\n",
       "      <td>low</td>\n",
       "    </tr>\n",
       "    <tr>\n",
       "      <th>...</th>\n",
       "      <td>...</td>\n",
       "      <td>...</td>\n",
       "      <td>...</td>\n",
       "      <td>...</td>\n",
       "      <td>...</td>\n",
       "      <td>...</td>\n",
       "      <td>...</td>\n",
       "      <td>...</td>\n",
       "      <td>...</td>\n",
       "      <td>...</td>\n",
       "      <td>...</td>\n",
       "      <td>...</td>\n",
       "      <td>...</td>\n",
       "      <td>...</td>\n",
       "    </tr>\n",
       "    <tr>\n",
       "      <th>995</th>\n",
       "      <td>Panel_B</td>\n",
       "      <td>18.10</td>\n",
       "      <td>0.15</td>\n",
       "      <td>302</td>\n",
       "      <td>714.936187</td>\n",
       "      <td>22.766445</td>\n",
       "      <td>21.291239</td>\n",
       "      <td>3.602661</td>\n",
       "      <td>61.595182</td>\n",
       "      <td>4</td>\n",
       "      <td>10</td>\n",
       "      <td>33.858955</td>\n",
       "      <td>-88.585466</td>\n",
       "      <td>medium</td>\n",
       "    </tr>\n",
       "    <tr>\n",
       "      <th>996</th>\n",
       "      <td>Panel_B</td>\n",
       "      <td>12.30</td>\n",
       "      <td>0.65</td>\n",
       "      <td>226</td>\n",
       "      <td>736.401113</td>\n",
       "      <td>24.012641</td>\n",
       "      <td>45.690515</td>\n",
       "      <td>9.612694</td>\n",
       "      <td>19.704401</td>\n",
       "      <td>18</td>\n",
       "      <td>20</td>\n",
       "      <td>28.335311</td>\n",
       "      <td>-71.953013</td>\n",
       "      <td>high</td>\n",
       "    </tr>\n",
       "    <tr>\n",
       "      <th>997</th>\n",
       "      <td>Panel_C</td>\n",
       "      <td>10.12</td>\n",
       "      <td>0.56</td>\n",
       "      <td>291</td>\n",
       "      <td>863.499489</td>\n",
       "      <td>16.035945</td>\n",
       "      <td>67.038076</td>\n",
       "      <td>12.090799</td>\n",
       "      <td>75.375519</td>\n",
       "      <td>21</td>\n",
       "      <td>30</td>\n",
       "      <td>38.662189</td>\n",
       "      <td>-105.852577</td>\n",
       "      <td>medium</td>\n",
       "    </tr>\n",
       "    <tr>\n",
       "      <th>998</th>\n",
       "      <td>Panel_B</td>\n",
       "      <td>13.77</td>\n",
       "      <td>0.28</td>\n",
       "      <td>315</td>\n",
       "      <td>738.160525</td>\n",
       "      <td>31.421819</td>\n",
       "      <td>84.590728</td>\n",
       "      <td>14.336480</td>\n",
       "      <td>3.404805</td>\n",
       "      <td>22</td>\n",
       "      <td>10</td>\n",
       "      <td>37.980271</td>\n",
       "      <td>-113.286274</td>\n",
       "      <td>high</td>\n",
       "    </tr>\n",
       "    <tr>\n",
       "      <th>999</th>\n",
       "      <td>Panel_A</td>\n",
       "      <td>15.27</td>\n",
       "      <td>0.38</td>\n",
       "      <td>210</td>\n",
       "      <td>316.168286</td>\n",
       "      <td>39.039397</td>\n",
       "      <td>35.686455</td>\n",
       "      <td>2.955428</td>\n",
       "      <td>87.672747</td>\n",
       "      <td>7</td>\n",
       "      <td>10</td>\n",
       "      <td>34.095214</td>\n",
       "      <td>-101.175491</td>\n",
       "      <td>low</td>\n",
       "    </tr>\n",
       "  </tbody>\n",
       "</table>\n",
       "<p>1000 rows × 14 columns</p>\n",
       "</div>"
      ],
      "text/plain": [
       "       Panel  Efficiency  Degradation  Power(W)  solar_irradiance  \\\n",
       "0    Panel_C       10.50         0.26       276        234.582148   \n",
       "1    Panel_C       13.35         0.95       248        701.541503   \n",
       "2    Panel_A       11.59         0.67       248        800.323062   \n",
       "3    Panel_B       14.53         0.48       384        264.976616   \n",
       "4    Panel_C       12.29         0.22       299        314.577546   \n",
       "..       ...         ...          ...       ...               ...   \n",
       "995  Panel_B       18.10         0.15       302        714.936187   \n",
       "996  Panel_B       12.30         0.65       226        736.401113   \n",
       "997  Panel_C       10.12         0.56       291        863.499489   \n",
       "998  Panel_B       13.77         0.28       315        738.160525   \n",
       "999  Panel_A       15.27         0.38       210        316.168286   \n",
       "\n",
       "     temperature   humidity  wind_speed  cloud_cover  panel_age  \\\n",
       "0      27.409992  34.203594   12.909419    47.135301          8   \n",
       "1      20.095389  71.946512    2.424767    98.612964          4   \n",
       "2      31.027154  60.910303   12.327964    70.145991          3   \n",
       "3      32.347156  60.115497   14.559179    66.752851          1   \n",
       "4      15.657046  81.578566    6.378646    39.263899         12   \n",
       "..           ...        ...         ...          ...        ...   \n",
       "995    22.766445  21.291239    3.602661    61.595182          4   \n",
       "996    24.012641  45.690515    9.612694    19.704401         18   \n",
       "997    16.035945  67.038076   12.090799    75.375519         21   \n",
       "998    31.421819  84.590728   14.336480     3.404805         22   \n",
       "999    39.039397  35.686455    2.955428    87.672747          7   \n",
       "\n",
       "     panel_tilt_angle   latitude   longitude output_category  \n",
       "0                  40  43.162039  -80.402974             low  \n",
       "1                  20  33.483335  -97.290986          medium  \n",
       "2                  10  49.220731  -93.750434             low  \n",
       "3                  30  39.840162  -87.148791             low  \n",
       "4                  50  33.434963 -123.012506             low  \n",
       "..                ...        ...         ...             ...  \n",
       "995                10  33.858955  -88.585466          medium  \n",
       "996                20  28.335311  -71.953013            high  \n",
       "997                30  38.662189 -105.852577          medium  \n",
       "998                10  37.980271 -113.286274            high  \n",
       "999                10  34.095214 -101.175491             low  \n",
       "\n",
       "[1000 rows x 14 columns]"
      ]
     },
     "execution_count": 2,
     "metadata": {},
     "output_type": "execute_result"
    }
   ],
   "source": [
    "dataset=pd.read_csv(\"solar_panel_classification_data.csv\")\n",
    "dataset"
   ]
  },
  {
   "cell_type": "code",
   "execution_count": 3,
   "id": "36c2f665",
   "metadata": {},
   "outputs": [
    {
     "data": {
      "text/plain": [
       "Panel               0\n",
       "Efficiency          0\n",
       "Degradation         0\n",
       "Power(W)            0\n",
       "solar_irradiance    0\n",
       "temperature         0\n",
       "humidity            0\n",
       "wind_speed          0\n",
       "cloud_cover         0\n",
       "panel_age           0\n",
       "panel_tilt_angle    0\n",
       "latitude            0\n",
       "longitude           0\n",
       "output_category     0\n",
       "dtype: int64"
      ]
     },
     "execution_count": 3,
     "metadata": {},
     "output_type": "execute_result"
    }
   ],
   "source": [
    "dataset.isnull().sum()"
   ]
  },
  {
   "cell_type": "code",
   "execution_count": 4,
   "id": "7812cce8",
   "metadata": {},
   "outputs": [
    {
     "data": {
      "text/plain": [
       "Panel_C    349\n",
       "Panel_B    331\n",
       "Panel_A    320\n",
       "Name: Panel, dtype: int64"
      ]
     },
     "execution_count": 4,
     "metadata": {},
     "output_type": "execute_result"
    }
   ],
   "source": [
    "dataset['Panel'].value_counts()"
   ]
  },
  {
   "cell_type": "code",
   "execution_count": 5,
   "id": "ea9c1b4f",
   "metadata": {},
   "outputs": [
    {
     "data": {
      "text/plain": [
       "13.08    6\n",
       "16.27    5\n",
       "10.82    5\n",
       "17.16    5\n",
       "15.27    5\n",
       "        ..\n",
       "14.29    1\n",
       "16.40    1\n",
       "18.60    1\n",
       "17.08    1\n",
       "18.95    1\n",
       "Name: Efficiency, Length: 628, dtype: int64"
      ]
     },
     "execution_count": 5,
     "metadata": {},
     "output_type": "execute_result"
    }
   ],
   "source": [
    "dataset['Efficiency'].value_counts()"
   ]
  },
  {
   "cell_type": "code",
   "execution_count": 6,
   "id": "b2a728d5",
   "metadata": {},
   "outputs": [
    {
     "data": {
      "text/plain": [
       "0.28    20\n",
       "0.23    20\n",
       "0.88    19\n",
       "0.98    17\n",
       "0.92    17\n",
       "        ..\n",
       "0.80     6\n",
       "0.76     5\n",
       "0.14     5\n",
       "0.24     4\n",
       "0.10     3\n",
       "Name: Degradation, Length: 91, dtype: int64"
      ]
     },
     "execution_count": 6,
     "metadata": {},
     "output_type": "execute_result"
    }
   ],
   "source": [
    "dataset['Degradation'].value_counts()"
   ]
  },
  {
   "cell_type": "code",
   "execution_count": 7,
   "id": "24ae3b8e",
   "metadata": {},
   "outputs": [
    {
     "data": {
      "text/plain": [
       "218    12\n",
       "291    12\n",
       "257    11\n",
       "217    11\n",
       "352    10\n",
       "       ..\n",
       "231     1\n",
       "380     1\n",
       "301     1\n",
       "386     1\n",
       "399     1\n",
       "Name: Power(W), Length: 198, dtype: int64"
      ]
     },
     "execution_count": 7,
     "metadata": {},
     "output_type": "execute_result"
    }
   ],
   "source": [
    "dataset['Power(W)'].value_counts()"
   ]
  },
  {
   "cell_type": "code",
   "execution_count": 8,
   "id": "9b078ad9",
   "metadata": {},
   "outputs": [
    {
     "data": {
      "text/plain": [
       "950.812268    1\n",
       "369.826359    1\n",
       "678.886293    1\n",
       "860.834051    1\n",
       "602.111551    1\n",
       "             ..\n",
       "939.921115    1\n",
       "912.669063    1\n",
       "582.546553    1\n",
       "663.125314    1\n",
       "741.636013    1\n",
       "Name: solar_irradiance, Length: 1000, dtype: int64"
      ]
     },
     "execution_count": 8,
     "metadata": {},
     "output_type": "execute_result"
    }
   ],
   "source": [
    "dataset['solar_irradiance'].value_counts()"
   ]
  },
  {
   "cell_type": "code",
   "execution_count": 9,
   "id": "c2e4b37a",
   "metadata": {},
   "outputs": [
    {
     "data": {
      "text/plain": [
       "26.734922    1\n",
       "31.009678    1\n",
       "32.659704    1\n",
       "30.470217    1\n",
       "20.853316    1\n",
       "            ..\n",
       "29.942795    1\n",
       "30.333321    1\n",
       "22.989973    1\n",
       "34.932448    1\n",
       "35.005192    1\n",
       "Name: temperature, Length: 1000, dtype: int64"
      ]
     },
     "execution_count": 9,
     "metadata": {},
     "output_type": "execute_result"
    }
   ],
   "source": [
    "dataset['temperature'].value_counts()"
   ]
  },
  {
   "cell_type": "code",
   "execution_count": 10,
   "id": "6e9899af",
   "metadata": {},
   "outputs": [
    {
     "data": {
      "text/plain": [
       "28.782419    1\n",
       "13.452174    1\n",
       "81.270108    1\n",
       "46.406816    1\n",
       "17.773745    1\n",
       "            ..\n",
       "52.832370    1\n",
       "70.662961    1\n",
       "50.996580    1\n",
       "54.354541    1\n",
       "56.434381    1\n",
       "Name: humidity, Length: 1000, dtype: int64"
      ]
     },
     "execution_count": 10,
     "metadata": {},
     "output_type": "execute_result"
    }
   ],
   "source": [
    "dataset['humidity'].value_counts()"
   ]
  },
  {
   "cell_type": "code",
   "execution_count": 11,
   "id": "3bae209b",
   "metadata": {},
   "outputs": [
    {
     "data": {
      "text/plain": [
       "9.666572     1\n",
       "2.948005     1\n",
       "13.103587    1\n",
       "14.116266    1\n",
       "5.429368     1\n",
       "            ..\n",
       "9.945316     1\n",
       "7.220932     1\n",
       "9.328914     1\n",
       "12.243678    1\n",
       "4.788790     1\n",
       "Name: wind_speed, Length: 1000, dtype: int64"
      ]
     },
     "execution_count": 11,
     "metadata": {},
     "output_type": "execute_result"
    }
   ],
   "source": [
    "dataset['wind_speed'].value_counts()"
   ]
  },
  {
   "cell_type": "code",
   "execution_count": 12,
   "id": "c19776dd",
   "metadata": {},
   "outputs": [
    {
     "data": {
      "text/plain": [
       "75.531284    1\n",
       "74.667334    1\n",
       "24.495524    1\n",
       "76.976063    1\n",
       "58.909494    1\n",
       "            ..\n",
       "61.346072    1\n",
       "10.975000    1\n",
       "85.671223    1\n",
       "30.122929    1\n",
       "72.264256    1\n",
       "Name: cloud_cover, Length: 1000, dtype: int64"
      ]
     },
     "execution_count": 12,
     "metadata": {},
     "output_type": "execute_result"
    }
   ],
   "source": [
    "dataset['cloud_cover'].value_counts()"
   ]
  },
  {
   "cell_type": "code",
   "execution_count": 13,
   "id": "7436e65d",
   "metadata": {},
   "outputs": [
    {
     "data": {
      "text/plain": [
       "14    53\n",
       "8     51\n",
       "12    48\n",
       "21    48\n",
       "2     47\n",
       "3     45\n",
       "15    44\n",
       "24    42\n",
       "17    42\n",
       "0     41\n",
       "18    41\n",
       "20    41\n",
       "9     40\n",
       "4     38\n",
       "13    38\n",
       "11    38\n",
       "1     37\n",
       "16    37\n",
       "19    37\n",
       "10    35\n",
       "22    35\n",
       "5     31\n",
       "7     31\n",
       "23    31\n",
       "6     29\n",
       "Name: panel_age, dtype: int64"
      ]
     },
     "execution_count": 13,
     "metadata": {},
     "output_type": "execute_result"
    }
   ],
   "source": [
    "dataset['panel_age'].value_counts()"
   ]
  },
  {
   "cell_type": "code",
   "execution_count": 14,
   "id": "a1272e08",
   "metadata": {},
   "outputs": [
    {
     "data": {
      "text/plain": [
       "10    216\n",
       "50    208\n",
       "40    196\n",
       "30    194\n",
       "20    186\n",
       "Name: panel_tilt_angle, dtype: int64"
      ]
     },
     "execution_count": 14,
     "metadata": {},
     "output_type": "execute_result"
    }
   ],
   "source": [
    "dataset['panel_tilt_angle'].value_counts()"
   ]
  },
  {
   "cell_type": "code",
   "execution_count": 15,
   "id": "f128586c",
   "metadata": {},
   "outputs": [
    {
     "data": {
      "text/plain": [
       "28.156473    1\n",
       "48.295190    1\n",
       "46.837884    1\n",
       "46.752057    1\n",
       "39.709615    1\n",
       "            ..\n",
       "42.887568    1\n",
       "49.592532    1\n",
       "32.745694    1\n",
       "42.620129    1\n",
       "46.207967    1\n",
       "Name: latitude, Length: 1000, dtype: int64"
      ]
     },
     "execution_count": 15,
     "metadata": {},
     "output_type": "execute_result"
    }
   ],
   "source": [
    "dataset['latitude'].value_counts()"
   ]
  },
  {
   "cell_type": "code",
   "execution_count": 16,
   "id": "88056d41",
   "metadata": {},
   "outputs": [
    {
     "data": {
      "text/plain": [
       "-107.071670    1\n",
       "-114.473219    1\n",
       "-104.191595    1\n",
       "-100.471442    1\n",
       "-95.583195     1\n",
       "              ..\n",
       "-90.843223     1\n",
       "-106.205107    1\n",
       "-76.734490     1\n",
       "-123.495829    1\n",
       "-93.629622     1\n",
       "Name: longitude, Length: 1000, dtype: int64"
      ]
     },
     "execution_count": 16,
     "metadata": {},
     "output_type": "execute_result"
    }
   ],
   "source": [
    "dataset['longitude'].value_counts()"
   ]
  },
  {
   "cell_type": "code",
   "execution_count": 17,
   "id": "266c2c99",
   "metadata": {},
   "outputs": [
    {
     "data": {
      "text/plain": [
       "low       477\n",
       "medium    429\n",
       "high       94\n",
       "Name: output_category, dtype: int64"
      ]
     },
     "execution_count": 17,
     "metadata": {},
     "output_type": "execute_result"
    }
   ],
   "source": [
    "dataset['output_category'].value_counts()"
   ]
  },
  {
   "cell_type": "code",
   "execution_count": 18,
   "id": "40258f08",
   "metadata": {},
   "outputs": [
    {
     "data": {
      "text/html": [
       "<div>\n",
       "<style scoped>\n",
       "    .dataframe tbody tr th:only-of-type {\n",
       "        vertical-align: middle;\n",
       "    }\n",
       "\n",
       "    .dataframe tbody tr th {\n",
       "        vertical-align: top;\n",
       "    }\n",
       "\n",
       "    .dataframe thead th {\n",
       "        text-align: right;\n",
       "    }\n",
       "</style>\n",
       "<table border=\"1\" class=\"dataframe\">\n",
       "  <thead>\n",
       "    <tr style=\"text-align: right;\">\n",
       "      <th></th>\n",
       "      <th>Efficiency</th>\n",
       "      <th>Degradation</th>\n",
       "      <th>Power(W)</th>\n",
       "      <th>solar_irradiance</th>\n",
       "      <th>temperature</th>\n",
       "      <th>humidity</th>\n",
       "      <th>wind_speed</th>\n",
       "      <th>cloud_cover</th>\n",
       "      <th>panel_age</th>\n",
       "      <th>panel_tilt_angle</th>\n",
       "      <th>latitude</th>\n",
       "      <th>longitude</th>\n",
       "      <th>output_category</th>\n",
       "    </tr>\n",
       "  </thead>\n",
       "  <tbody>\n",
       "    <tr>\n",
       "      <th>0</th>\n",
       "      <td>10.50</td>\n",
       "      <td>0.26</td>\n",
       "      <td>276</td>\n",
       "      <td>234.582148</td>\n",
       "      <td>27.409992</td>\n",
       "      <td>34.203594</td>\n",
       "      <td>12.909419</td>\n",
       "      <td>47.135301</td>\n",
       "      <td>8</td>\n",
       "      <td>40</td>\n",
       "      <td>43.162039</td>\n",
       "      <td>-80.402974</td>\n",
       "      <td>low</td>\n",
       "    </tr>\n",
       "    <tr>\n",
       "      <th>1</th>\n",
       "      <td>13.35</td>\n",
       "      <td>0.95</td>\n",
       "      <td>248</td>\n",
       "      <td>701.541503</td>\n",
       "      <td>20.095389</td>\n",
       "      <td>71.946512</td>\n",
       "      <td>2.424767</td>\n",
       "      <td>98.612964</td>\n",
       "      <td>4</td>\n",
       "      <td>20</td>\n",
       "      <td>33.483335</td>\n",
       "      <td>-97.290986</td>\n",
       "      <td>medium</td>\n",
       "    </tr>\n",
       "    <tr>\n",
       "      <th>2</th>\n",
       "      <td>11.59</td>\n",
       "      <td>0.67</td>\n",
       "      <td>248</td>\n",
       "      <td>800.323062</td>\n",
       "      <td>31.027154</td>\n",
       "      <td>60.910303</td>\n",
       "      <td>12.327964</td>\n",
       "      <td>70.145991</td>\n",
       "      <td>3</td>\n",
       "      <td>10</td>\n",
       "      <td>49.220731</td>\n",
       "      <td>-93.750434</td>\n",
       "      <td>low</td>\n",
       "    </tr>\n",
       "    <tr>\n",
       "      <th>3</th>\n",
       "      <td>14.53</td>\n",
       "      <td>0.48</td>\n",
       "      <td>384</td>\n",
       "      <td>264.976616</td>\n",
       "      <td>32.347156</td>\n",
       "      <td>60.115497</td>\n",
       "      <td>14.559179</td>\n",
       "      <td>66.752851</td>\n",
       "      <td>1</td>\n",
       "      <td>30</td>\n",
       "      <td>39.840162</td>\n",
       "      <td>-87.148791</td>\n",
       "      <td>low</td>\n",
       "    </tr>\n",
       "    <tr>\n",
       "      <th>4</th>\n",
       "      <td>12.29</td>\n",
       "      <td>0.22</td>\n",
       "      <td>299</td>\n",
       "      <td>314.577546</td>\n",
       "      <td>15.657046</td>\n",
       "      <td>81.578566</td>\n",
       "      <td>6.378646</td>\n",
       "      <td>39.263899</td>\n",
       "      <td>12</td>\n",
       "      <td>50</td>\n",
       "      <td>33.434963</td>\n",
       "      <td>-123.012506</td>\n",
       "      <td>low</td>\n",
       "    </tr>\n",
       "    <tr>\n",
       "      <th>...</th>\n",
       "      <td>...</td>\n",
       "      <td>...</td>\n",
       "      <td>...</td>\n",
       "      <td>...</td>\n",
       "      <td>...</td>\n",
       "      <td>...</td>\n",
       "      <td>...</td>\n",
       "      <td>...</td>\n",
       "      <td>...</td>\n",
       "      <td>...</td>\n",
       "      <td>...</td>\n",
       "      <td>...</td>\n",
       "      <td>...</td>\n",
       "    </tr>\n",
       "    <tr>\n",
       "      <th>995</th>\n",
       "      <td>18.10</td>\n",
       "      <td>0.15</td>\n",
       "      <td>302</td>\n",
       "      <td>714.936187</td>\n",
       "      <td>22.766445</td>\n",
       "      <td>21.291239</td>\n",
       "      <td>3.602661</td>\n",
       "      <td>61.595182</td>\n",
       "      <td>4</td>\n",
       "      <td>10</td>\n",
       "      <td>33.858955</td>\n",
       "      <td>-88.585466</td>\n",
       "      <td>medium</td>\n",
       "    </tr>\n",
       "    <tr>\n",
       "      <th>996</th>\n",
       "      <td>12.30</td>\n",
       "      <td>0.65</td>\n",
       "      <td>226</td>\n",
       "      <td>736.401113</td>\n",
       "      <td>24.012641</td>\n",
       "      <td>45.690515</td>\n",
       "      <td>9.612694</td>\n",
       "      <td>19.704401</td>\n",
       "      <td>18</td>\n",
       "      <td>20</td>\n",
       "      <td>28.335311</td>\n",
       "      <td>-71.953013</td>\n",
       "      <td>high</td>\n",
       "    </tr>\n",
       "    <tr>\n",
       "      <th>997</th>\n",
       "      <td>10.12</td>\n",
       "      <td>0.56</td>\n",
       "      <td>291</td>\n",
       "      <td>863.499489</td>\n",
       "      <td>16.035945</td>\n",
       "      <td>67.038076</td>\n",
       "      <td>12.090799</td>\n",
       "      <td>75.375519</td>\n",
       "      <td>21</td>\n",
       "      <td>30</td>\n",
       "      <td>38.662189</td>\n",
       "      <td>-105.852577</td>\n",
       "      <td>medium</td>\n",
       "    </tr>\n",
       "    <tr>\n",
       "      <th>998</th>\n",
       "      <td>13.77</td>\n",
       "      <td>0.28</td>\n",
       "      <td>315</td>\n",
       "      <td>738.160525</td>\n",
       "      <td>31.421819</td>\n",
       "      <td>84.590728</td>\n",
       "      <td>14.336480</td>\n",
       "      <td>3.404805</td>\n",
       "      <td>22</td>\n",
       "      <td>10</td>\n",
       "      <td>37.980271</td>\n",
       "      <td>-113.286274</td>\n",
       "      <td>high</td>\n",
       "    </tr>\n",
       "    <tr>\n",
       "      <th>999</th>\n",
       "      <td>15.27</td>\n",
       "      <td>0.38</td>\n",
       "      <td>210</td>\n",
       "      <td>316.168286</td>\n",
       "      <td>39.039397</td>\n",
       "      <td>35.686455</td>\n",
       "      <td>2.955428</td>\n",
       "      <td>87.672747</td>\n",
       "      <td>7</td>\n",
       "      <td>10</td>\n",
       "      <td>34.095214</td>\n",
       "      <td>-101.175491</td>\n",
       "      <td>low</td>\n",
       "    </tr>\n",
       "  </tbody>\n",
       "</table>\n",
       "<p>1000 rows × 13 columns</p>\n",
       "</div>"
      ],
      "text/plain": [
       "     Efficiency  Degradation  Power(W)  solar_irradiance  temperature  \\\n",
       "0         10.50         0.26       276        234.582148    27.409992   \n",
       "1         13.35         0.95       248        701.541503    20.095389   \n",
       "2         11.59         0.67       248        800.323062    31.027154   \n",
       "3         14.53         0.48       384        264.976616    32.347156   \n",
       "4         12.29         0.22       299        314.577546    15.657046   \n",
       "..          ...          ...       ...               ...          ...   \n",
       "995       18.10         0.15       302        714.936187    22.766445   \n",
       "996       12.30         0.65       226        736.401113    24.012641   \n",
       "997       10.12         0.56       291        863.499489    16.035945   \n",
       "998       13.77         0.28       315        738.160525    31.421819   \n",
       "999       15.27         0.38       210        316.168286    39.039397   \n",
       "\n",
       "      humidity  wind_speed  cloud_cover  panel_age  panel_tilt_angle  \\\n",
       "0    34.203594   12.909419    47.135301          8                40   \n",
       "1    71.946512    2.424767    98.612964          4                20   \n",
       "2    60.910303   12.327964    70.145991          3                10   \n",
       "3    60.115497   14.559179    66.752851          1                30   \n",
       "4    81.578566    6.378646    39.263899         12                50   \n",
       "..         ...         ...          ...        ...               ...   \n",
       "995  21.291239    3.602661    61.595182          4                10   \n",
       "996  45.690515    9.612694    19.704401         18                20   \n",
       "997  67.038076   12.090799    75.375519         21                30   \n",
       "998  84.590728   14.336480     3.404805         22                10   \n",
       "999  35.686455    2.955428    87.672747          7                10   \n",
       "\n",
       "      latitude   longitude output_category  \n",
       "0    43.162039  -80.402974             low  \n",
       "1    33.483335  -97.290986          medium  \n",
       "2    49.220731  -93.750434             low  \n",
       "3    39.840162  -87.148791             low  \n",
       "4    33.434963 -123.012506             low  \n",
       "..         ...         ...             ...  \n",
       "995  33.858955  -88.585466          medium  \n",
       "996  28.335311  -71.953013            high  \n",
       "997  38.662189 -105.852577          medium  \n",
       "998  37.980271 -113.286274            high  \n",
       "999  34.095214 -101.175491             low  \n",
       "\n",
       "[1000 rows x 13 columns]"
      ]
     },
     "execution_count": 18,
     "metadata": {},
     "output_type": "execute_result"
    }
   ],
   "source": [
    "dataset=dataset.drop(\"Panel\",axis=1)\n",
    "dataset"
   ]
  },
  {
   "cell_type": "code",
   "execution_count": null,
   "id": "d9b53778",
   "metadata": {},
   "outputs": [],
   "source": []
  },
  {
   "cell_type": "code",
   "execution_count": 19,
   "id": "d1bf8a9f",
   "metadata": {},
   "outputs": [
    {
     "data": {
      "text/plain": [
       "Index(['Efficiency', 'Degradation', 'Power(W)', 'solar_irradiance',\n",
       "       'temperature', 'humidity', 'wind_speed', 'cloud_cover', 'panel_age',\n",
       "       'panel_tilt_angle', 'latitude', 'longitude', 'output_category'],\n",
       "      dtype='object')"
      ]
     },
     "execution_count": 19,
     "metadata": {},
     "output_type": "execute_result"
    }
   ],
   "source": [
    "dataset.columns"
   ]
  },
  {
   "cell_type": "code",
   "execution_count": 20,
   "id": "b2c423b1",
   "metadata": {},
   "outputs": [],
   "source": [
    "def quanqual(dataset):\n",
    "        quan=[]\n",
    "        qual=[]\n",
    "        for ColumnName in dataset.columns:\n",
    "\n",
    "            if (dataset[ColumnName].dtype=='O'):\n",
    "                qual.append(ColumnName)\n",
    "            else:\n",
    "                 quan.append(ColumnName)\n",
    "        return quan,qual"
   ]
  },
  {
   "cell_type": "code",
   "execution_count": 21,
   "id": "a5416043",
   "metadata": {},
   "outputs": [],
   "source": [
    "quan,qual=quanqual(dataset)"
   ]
  },
  {
   "cell_type": "code",
   "execution_count": 22,
   "id": "987b78db",
   "metadata": {},
   "outputs": [
    {
     "data": {
      "text/plain": [
       "['Efficiency',\n",
       " 'Degradation',\n",
       " 'Power(W)',\n",
       " 'solar_irradiance',\n",
       " 'temperature',\n",
       " 'humidity',\n",
       " 'wind_speed',\n",
       " 'cloud_cover',\n",
       " 'panel_age',\n",
       " 'panel_tilt_angle',\n",
       " 'latitude',\n",
       " 'longitude']"
      ]
     },
     "execution_count": 22,
     "metadata": {},
     "output_type": "execute_result"
    }
   ],
   "source": [
    "quan"
   ]
  },
  {
   "cell_type": "code",
   "execution_count": 23,
   "id": "3ca38ea6",
   "metadata": {},
   "outputs": [
    {
     "data": {
      "text/plain": [
       "['output_category']"
      ]
     },
     "execution_count": 23,
     "metadata": {},
     "output_type": "execute_result"
    }
   ],
   "source": [
    "qual"
   ]
  },
  {
   "cell_type": "code",
   "execution_count": 24,
   "id": "b6e094fa",
   "metadata": {},
   "outputs": [],
   "source": [
    "def UniVariate(dataset,quan):\n",
    "    descriptive=pd.DataFrame(index=[\"Mean\",\"Median\",\"Mode\",\"Q1:25%\",\"Q2:50%\",\"Q3:75%\",\"Q4:99%\",\"Q5:100%\",\"IQR\",\"1.5Rule\",\"Lesser\",\"Greater\",\"Minimum\",\"Maximum\"],columns=quan)\n",
    "    for ColumnName in quan:\n",
    "        descriptive[ColumnName][\"Mean\"]=dataset[ColumnName].mean()\n",
    "        descriptive[ColumnName][\"Median\"]=dataset[ColumnName].median()\n",
    "        descriptive[ColumnName][\"Mode\"]=dataset[ColumnName].mode()[0]\n",
    "        descriptive[ColumnName][\"Q1:25%\"]=dataset.describe()[ColumnName][\"25%\"]\n",
    "        descriptive[ColumnName][\"Q2:50%\"]=dataset.describe()[ColumnName][\"50%\"]\n",
    "        descriptive[ColumnName][\"Q3:75%\"]=dataset.describe()[ColumnName][\"75%\"]\n",
    "        descriptive[ColumnName][\"Q4:99%\"]=np.percentile(dataset[ColumnName],99)\n",
    "        descriptive[ColumnName][\"Q5:100%\"]=dataset.describe()[ColumnName][\"max\"]\n",
    "        descriptive[ColumnName][\"IQR\"]= descriptive[ColumnName][\"Q3:75%\"]-descriptive[ColumnName][\"Q1:25%\"]\n",
    "        descriptive[ColumnName][\"1.5Rule\"]=1.5*descriptive[ColumnName][\"IQR\"]\n",
    "        descriptive[ColumnName][\"Lesser\"]=descriptive[ColumnName][\"Q1:25%\"]-descriptive[ColumnName][\"1.5Rule\"]\n",
    "        descriptive[ColumnName][\"Greater\"]=descriptive[ColumnName][\"Q3:75%\"]+descriptive[ColumnName][\"1.5Rule\"]\n",
    "        descriptive[ColumnName][\"Minimum\"]=dataset[ColumnName].min()\n",
    "        descriptive[ColumnName][\"Maximum\"]=dataset[ColumnName].max()\n",
    "    return descriptive"
   ]
  },
  {
   "cell_type": "code",
   "execution_count": 25,
   "id": "09f82568",
   "metadata": {},
   "outputs": [],
   "source": [
    "descriptive=UniVariate(dataset,quan)"
   ]
  },
  {
   "cell_type": "code",
   "execution_count": 26,
   "id": "d7a649a4",
   "metadata": {},
   "outputs": [],
   "source": [
    "def FindingOutlier(quan,UniVariate):\n",
    "    Lesser=[]\n",
    "    Greater=[]\n",
    "    for ColumnName in quan:\n",
    "        if(descriptive[ColumnName][\"Minimum\"]<descriptive[ColumnName][\"Lesser\"]):\n",
    "            Lesser.append(ColumnName)\n",
    "        if(descriptive[ColumnName][\"Maximum\"]>descriptive[ColumnName][\"Greater\"]):\n",
    "            Greater.append(ColumnName)\n",
    "    return Lesser,Greater\n",
    "\n",
    "Lesser,Greater = FindingOutlier(quan,UniVariate)"
   ]
  },
  {
   "cell_type": "code",
   "execution_count": 27,
   "id": "3d94f914",
   "metadata": {},
   "outputs": [
    {
     "data": {
      "text/plain": [
       "[]"
      ]
     },
     "execution_count": 27,
     "metadata": {},
     "output_type": "execute_result"
    }
   ],
   "source": [
    "Lesser"
   ]
  },
  {
   "cell_type": "code",
   "execution_count": 28,
   "id": "1428b073",
   "metadata": {},
   "outputs": [
    {
     "data": {
      "text/plain": [
       "[]"
      ]
     },
     "execution_count": 28,
     "metadata": {},
     "output_type": "execute_result"
    }
   ],
   "source": [
    "Greater"
   ]
  },
  {
   "cell_type": "code",
   "execution_count": 29,
   "id": "19f91094",
   "metadata": {},
   "outputs": [
    {
     "data": {
      "text/html": [
       "<div>\n",
       "<style scoped>\n",
       "    .dataframe tbody tr th:only-of-type {\n",
       "        vertical-align: middle;\n",
       "    }\n",
       "\n",
       "    .dataframe tbody tr th {\n",
       "        vertical-align: top;\n",
       "    }\n",
       "\n",
       "    .dataframe thead th {\n",
       "        text-align: right;\n",
       "    }\n",
       "</style>\n",
       "<table border=\"1\" class=\"dataframe\">\n",
       "  <thead>\n",
       "    <tr style=\"text-align: right;\">\n",
       "      <th></th>\n",
       "      <th>Efficiency</th>\n",
       "      <th>Degradation</th>\n",
       "      <th>Power(W)</th>\n",
       "      <th>solar_irradiance</th>\n",
       "      <th>temperature</th>\n",
       "      <th>humidity</th>\n",
       "      <th>wind_speed</th>\n",
       "      <th>cloud_cover</th>\n",
       "      <th>panel_age</th>\n",
       "      <th>panel_tilt_angle</th>\n",
       "      <th>latitude</th>\n",
       "      <th>longitude</th>\n",
       "    </tr>\n",
       "  </thead>\n",
       "  <tbody>\n",
       "    <tr>\n",
       "      <th>Mean</th>\n",
       "      <td>14.9697</td>\n",
       "      <td>0.56264</td>\n",
       "      <td>298.438</td>\n",
       "      <td>595.178</td>\n",
       "      <td>24.8967</td>\n",
       "      <td>50.4678</td>\n",
       "      <td>7.61162</td>\n",
       "      <td>51.018</td>\n",
       "      <td>12.038</td>\n",
       "      <td>29.94</td>\n",
       "      <td>37.3771</td>\n",
       "      <td>-94.2579</td>\n",
       "    </tr>\n",
       "    <tr>\n",
       "      <th>Median</th>\n",
       "      <td>15.135</td>\n",
       "      <td>0.56</td>\n",
       "      <td>295</td>\n",
       "      <td>600.164</td>\n",
       "      <td>25.0282</td>\n",
       "      <td>51.1235</td>\n",
       "      <td>7.6909</td>\n",
       "      <td>50.9363</td>\n",
       "      <td>12</td>\n",
       "      <td>30</td>\n",
       "      <td>37.2614</td>\n",
       "      <td>-92.9376</td>\n",
       "    </tr>\n",
       "    <tr>\n",
       "      <th>Mode</th>\n",
       "      <td>13.08</td>\n",
       "      <td>0.23</td>\n",
       "      <td>218</td>\n",
       "      <td>200.404</td>\n",
       "      <td>10.0031</td>\n",
       "      <td>10.0437</td>\n",
       "      <td>0.0821637</td>\n",
       "      <td>0.13549</td>\n",
       "      <td>14</td>\n",
       "      <td>10</td>\n",
       "      <td>25.0583</td>\n",
       "      <td>-124.994</td>\n",
       "    </tr>\n",
       "    <tr>\n",
       "      <th>Q1:25%</th>\n",
       "      <td>12.67</td>\n",
       "      <td>0.33</td>\n",
       "      <td>250</td>\n",
       "      <td>390.303</td>\n",
       "      <td>17.1287</td>\n",
       "      <td>30.2236</td>\n",
       "      <td>3.87703</td>\n",
       "      <td>27.6951</td>\n",
       "      <td>6</td>\n",
       "      <td>20</td>\n",
       "      <td>31.3821</td>\n",
       "      <td>-109.559</td>\n",
       "    </tr>\n",
       "    <tr>\n",
       "      <th>Q2:50%</th>\n",
       "      <td>15.135</td>\n",
       "      <td>0.56</td>\n",
       "      <td>295</td>\n",
       "      <td>600.164</td>\n",
       "      <td>25.0282</td>\n",
       "      <td>51.1235</td>\n",
       "      <td>7.6909</td>\n",
       "      <td>50.9363</td>\n",
       "      <td>12</td>\n",
       "      <td>30</td>\n",
       "      <td>37.2614</td>\n",
       "      <td>-92.9376</td>\n",
       "    </tr>\n",
       "    <tr>\n",
       "      <th>Q3:75%</th>\n",
       "      <td>17.2325</td>\n",
       "      <td>0.78</td>\n",
       "      <td>348</td>\n",
       "      <td>791.248</td>\n",
       "      <td>32.088</td>\n",
       "      <td>70.7696</td>\n",
       "      <td>11.4897</td>\n",
       "      <td>75.1159</td>\n",
       "      <td>18</td>\n",
       "      <td>40</td>\n",
       "      <td>43.4429</td>\n",
       "      <td>-79.881</td>\n",
       "    </tr>\n",
       "    <tr>\n",
       "      <th>Q4:99%</th>\n",
       "      <td>19.89</td>\n",
       "      <td>0.99</td>\n",
       "      <td>397</td>\n",
       "      <td>984.042</td>\n",
       "      <td>39.5749</td>\n",
       "      <td>89.2366</td>\n",
       "      <td>14.876</td>\n",
       "      <td>98.6133</td>\n",
       "      <td>24</td>\n",
       "      <td>50</td>\n",
       "      <td>49.7533</td>\n",
       "      <td>-65.474</td>\n",
       "    </tr>\n",
       "    <tr>\n",
       "      <th>Q5:100%</th>\n",
       "      <td>19.98</td>\n",
       "      <td>1</td>\n",
       "      <td>399</td>\n",
       "      <td>996.552</td>\n",
       "      <td>39.9</td>\n",
       "      <td>89.8757</td>\n",
       "      <td>14.9459</td>\n",
       "      <td>99.9285</td>\n",
       "      <td>24</td>\n",
       "      <td>50</td>\n",
       "      <td>49.9765</td>\n",
       "      <td>-65.0772</td>\n",
       "    </tr>\n",
       "    <tr>\n",
       "      <th>IQR</th>\n",
       "      <td>4.5625</td>\n",
       "      <td>0.45</td>\n",
       "      <td>98</td>\n",
       "      <td>400.944</td>\n",
       "      <td>14.9594</td>\n",
       "      <td>40.546</td>\n",
       "      <td>7.61266</td>\n",
       "      <td>47.4208</td>\n",
       "      <td>12</td>\n",
       "      <td>20</td>\n",
       "      <td>12.0607</td>\n",
       "      <td>29.6777</td>\n",
       "    </tr>\n",
       "    <tr>\n",
       "      <th>1.5Rule</th>\n",
       "      <td>6.84375</td>\n",
       "      <td>0.675</td>\n",
       "      <td>147</td>\n",
       "      <td>601.416</td>\n",
       "      <td>22.439</td>\n",
       "      <td>60.819</td>\n",
       "      <td>11.419</td>\n",
       "      <td>71.1312</td>\n",
       "      <td>18</td>\n",
       "      <td>30</td>\n",
       "      <td>18.0911</td>\n",
       "      <td>44.5165</td>\n",
       "    </tr>\n",
       "    <tr>\n",
       "      <th>Lesser</th>\n",
       "      <td>5.82625</td>\n",
       "      <td>-0.345</td>\n",
       "      <td>103</td>\n",
       "      <td>-211.113</td>\n",
       "      <td>-5.31038</td>\n",
       "      <td>-30.5954</td>\n",
       "      <td>-7.54197</td>\n",
       "      <td>-43.436</td>\n",
       "      <td>-12</td>\n",
       "      <td>-10</td>\n",
       "      <td>13.291</td>\n",
       "      <td>-154.075</td>\n",
       "    </tr>\n",
       "    <tr>\n",
       "      <th>Greater</th>\n",
       "      <td>24.0762</td>\n",
       "      <td>1.455</td>\n",
       "      <td>495</td>\n",
       "      <td>1392.66</td>\n",
       "      <td>54.5271</td>\n",
       "      <td>131.589</td>\n",
       "      <td>22.9087</td>\n",
       "      <td>146.247</td>\n",
       "      <td>36</td>\n",
       "      <td>70</td>\n",
       "      <td>61.534</td>\n",
       "      <td>-35.3645</td>\n",
       "    </tr>\n",
       "    <tr>\n",
       "      <th>Minimum</th>\n",
       "      <td>10.01</td>\n",
       "      <td>0.1</td>\n",
       "      <td>200</td>\n",
       "      <td>200.404</td>\n",
       "      <td>10.0031</td>\n",
       "      <td>10.0437</td>\n",
       "      <td>0.0821637</td>\n",
       "      <td>0.13549</td>\n",
       "      <td>0</td>\n",
       "      <td>10</td>\n",
       "      <td>25.0583</td>\n",
       "      <td>-124.994</td>\n",
       "    </tr>\n",
       "    <tr>\n",
       "      <th>Maximum</th>\n",
       "      <td>19.98</td>\n",
       "      <td>1</td>\n",
       "      <td>399</td>\n",
       "      <td>996.552</td>\n",
       "      <td>39.9</td>\n",
       "      <td>89.8757</td>\n",
       "      <td>14.9459</td>\n",
       "      <td>99.9285</td>\n",
       "      <td>24</td>\n",
       "      <td>50</td>\n",
       "      <td>49.9765</td>\n",
       "      <td>-65.0772</td>\n",
       "    </tr>\n",
       "  </tbody>\n",
       "</table>\n",
       "</div>"
      ],
      "text/plain": [
       "        Efficiency Degradation Power(W) solar_irradiance temperature humidity  \\\n",
       "Mean       14.9697     0.56264  298.438          595.178     24.8967  50.4678   \n",
       "Median      15.135        0.56      295          600.164     25.0282  51.1235   \n",
       "Mode         13.08        0.23      218          200.404     10.0031  10.0437   \n",
       "Q1:25%       12.67        0.33      250          390.303     17.1287  30.2236   \n",
       "Q2:50%      15.135        0.56      295          600.164     25.0282  51.1235   \n",
       "Q3:75%     17.2325        0.78      348          791.248      32.088  70.7696   \n",
       "Q4:99%       19.89        0.99      397          984.042     39.5749  89.2366   \n",
       "Q5:100%      19.98           1      399          996.552        39.9  89.8757   \n",
       "IQR         4.5625        0.45       98          400.944     14.9594   40.546   \n",
       "1.5Rule    6.84375       0.675      147          601.416      22.439   60.819   \n",
       "Lesser     5.82625      -0.345      103         -211.113    -5.31038 -30.5954   \n",
       "Greater    24.0762       1.455      495          1392.66     54.5271  131.589   \n",
       "Minimum      10.01         0.1      200          200.404     10.0031  10.0437   \n",
       "Maximum      19.98           1      399          996.552        39.9  89.8757   \n",
       "\n",
       "        wind_speed cloud_cover panel_age panel_tilt_angle latitude longitude  \n",
       "Mean       7.61162      51.018    12.038            29.94  37.3771  -94.2579  \n",
       "Median      7.6909     50.9363        12               30  37.2614  -92.9376  \n",
       "Mode     0.0821637     0.13549        14               10  25.0583  -124.994  \n",
       "Q1:25%     3.87703     27.6951         6               20  31.3821  -109.559  \n",
       "Q2:50%      7.6909     50.9363        12               30  37.2614  -92.9376  \n",
       "Q3:75%     11.4897     75.1159        18               40  43.4429   -79.881  \n",
       "Q4:99%      14.876     98.6133        24               50  49.7533   -65.474  \n",
       "Q5:100%    14.9459     99.9285        24               50  49.9765  -65.0772  \n",
       "IQR        7.61266     47.4208        12               20  12.0607   29.6777  \n",
       "1.5Rule     11.419     71.1312        18               30  18.0911   44.5165  \n",
       "Lesser    -7.54197     -43.436       -12              -10   13.291  -154.075  \n",
       "Greater    22.9087     146.247        36               70   61.534  -35.3645  \n",
       "Minimum  0.0821637     0.13549         0               10  25.0583  -124.994  \n",
       "Maximum    14.9459     99.9285        24               50  49.9765  -65.0772  "
      ]
     },
     "execution_count": 29,
     "metadata": {},
     "output_type": "execute_result"
    }
   ],
   "source": [
    "UniVariate(dataset,quan)"
   ]
  },
  {
   "cell_type": "code",
   "execution_count": 30,
   "id": "c58a6b15",
   "metadata": {},
   "outputs": [
    {
     "name": "stdout",
     "output_type": "stream",
     "text": [
      "Lesser: []\n",
      "Greater: []\n"
     ]
    }
   ],
   "source": [
    "Lesser, Greater =FindingOutlier(quan, descriptive)\n",
    "print(\"Lesser:\", Lesser)\n",
    "print(\"Greater:\", Greater)\n",
    "Lesser = Lesser\n",
    "Greater = Greater"
   ]
  },
  {
   "cell_type": "markdown",
   "id": "2cfb7832",
   "metadata": {},
   "source": [
    "There are no null values present in the dataset.\n",
    "Additionally, no outliers are present in the dataset."
   ]
  },
  {
   "cell_type": "code",
   "execution_count": null,
   "id": "3e6bfc53",
   "metadata": {},
   "outputs": [],
   "source": []
  },
  {
   "cell_type": "code",
   "execution_count": null,
   "id": "fdca0584",
   "metadata": {},
   "outputs": [],
   "source": []
  },
  {
   "cell_type": "code",
   "execution_count": null,
   "id": "af996981",
   "metadata": {},
   "outputs": [],
   "source": []
  }
 ],
 "metadata": {
  "kernelspec": {
   "display_name": "Python 3 (ipykernel)",
   "language": "python",
   "name": "python3"
  },
  "language_info": {
   "codemirror_mode": {
    "name": "ipython",
    "version": 3
   },
   "file_extension": ".py",
   "mimetype": "text/x-python",
   "name": "python",
   "nbconvert_exporter": "python",
   "pygments_lexer": "ipython3",
   "version": "3.7.1"
  }
 },
 "nbformat": 4,
 "nbformat_minor": 5
}
